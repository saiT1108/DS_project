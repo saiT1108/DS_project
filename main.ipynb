{
 "cells": [
  {
   "cell_type": "markdown",
   "metadata": {},
   "source": [
    "# Severity of storms "
   ]
  },
  {
   "cell_type": "markdown",
   "metadata": {},
   "source": [
    "### 1.1 Business problem"
   ]
  },
  {
   "cell_type": "markdown",
   "metadata": {},
   "source": [
    "\n",
    "Our project will focus on analyzing and predicting the severity of tornadoes across various regions in America in terms of property damage. To analyze this, we will take the last 10 years of tornado data to represent an approximate measure of it. To calculate this, we will establish a threshold for measuring the severity using the amount of property damage caused by tornadoes. We will predict the property damage of tornadoes and use a scale of low, medium, and high to represent the severity.  \n",
    "In addition, we will also compare attitudes across each of the 4 seasons - summer, spring, winter, fall, and see if there are any trends present across the 10 year span that shows when tornadoes are most common and damaging. The trends will help us be more accurate in predicting the property damage caused by the tornadoes per region during different seasons/times of the year. \n"
   ]
  },
  {
   "cell_type": "markdown",
   "metadata": {},
   "source": [
    "### 1.2 Business understanding"
   ]
  },
  {
   "cell_type": "markdown",
   "metadata": {},
   "source": []
  },
  {
   "cell_type": "markdown",
   "metadata": {},
   "source": [
    "### 1.3 Datasets"
   ]
  },
  {
   "cell_type": "markdown",
   "metadata": {},
   "source": [
    "\n",
    "Our dataset details instances of severe weather across a 10 year period. The dataset shows us the date/year, the state the tornado occured in, deaths/injuries, and the property damage. We will be using this dataset to predict the property damage caused by future tornadoes in region acros the US. Bonus: We will predict deaths/injuries if we have more time. \n"
   ]
  },
  {
   "cell_type": "markdown",
   "metadata": {},
   "source": [
    "### 1.4 Proposed analytics solution"
   ]
  },
  {
   "cell_type": "markdown",
   "metadata": {},
   "source": [
    " How we get to the target variable -- severity index\n",
    "The severity index will be calculated by… \n"
   ]
  },
  {
   "cell_type": "code",
   "execution_count": 1,
   "metadata": {},
   "outputs": [
    {
     "name": "stderr",
     "output_type": "stream",
     "text": [
      "C:\\Users\\doris\\AppData\\Local\\Temp/ipykernel_21876/904002365.py:12: FutureWarning: The frame.append method is deprecated and will be removed from pandas in a future version. Use pandas.concat instead.\n",
      "  df_all_data = df_all_data.append(df_temp, ignore_index=True)\n",
      "C:\\Users\\doris\\AppData\\Local\\Temp/ipykernel_21876/904002365.py:12: FutureWarning: The frame.append method is deprecated and will be removed from pandas in a future version. Use pandas.concat instead.\n",
      "  df_all_data = df_all_data.append(df_temp, ignore_index=True)\n",
      "C:\\Users\\doris\\AppData\\Local\\Temp/ipykernel_21876/904002365.py:12: FutureWarning: The frame.append method is deprecated and will be removed from pandas in a future version. Use pandas.concat instead.\n",
      "  df_all_data = df_all_data.append(df_temp, ignore_index=True)\n",
      "C:\\Users\\doris\\AppData\\Local\\Temp/ipykernel_21876/904002365.py:12: FutureWarning: The frame.append method is deprecated and will be removed from pandas in a future version. Use pandas.concat instead.\n",
      "  df_all_data = df_all_data.append(df_temp, ignore_index=True)\n",
      "C:\\Users\\doris\\AppData\\Local\\Temp/ipykernel_21876/904002365.py:12: FutureWarning: The frame.append method is deprecated and will be removed from pandas in a future version. Use pandas.concat instead.\n",
      "  df_all_data = df_all_data.append(df_temp, ignore_index=True)\n",
      "C:\\Users\\doris\\AppData\\Local\\Temp/ipykernel_21876/904002365.py:12: FutureWarning: The frame.append method is deprecated and will be removed from pandas in a future version. Use pandas.concat instead.\n",
      "  df_all_data = df_all_data.append(df_temp, ignore_index=True)\n",
      "C:\\Users\\doris\\AppData\\Local\\Temp/ipykernel_21876/904002365.py:12: FutureWarning: The frame.append method is deprecated and will be removed from pandas in a future version. Use pandas.concat instead.\n",
      "  df_all_data = df_all_data.append(df_temp, ignore_index=True)\n",
      "C:\\Users\\doris\\AppData\\Local\\Temp/ipykernel_21876/904002365.py:12: FutureWarning: The frame.append method is deprecated and will be removed from pandas in a future version. Use pandas.concat instead.\n",
      "  df_all_data = df_all_data.append(df_temp, ignore_index=True)\n",
      "C:\\Users\\doris\\AppData\\Local\\Temp/ipykernel_21876/904002365.py:12: FutureWarning: The frame.append method is deprecated and will be removed from pandas in a future version. Use pandas.concat instead.\n",
      "  df_all_data = df_all_data.append(df_temp, ignore_index=True)\n",
      "C:\\Users\\doris\\AppData\\Local\\Temp/ipykernel_21876/904002365.py:12: FutureWarning: The frame.append method is deprecated and will be removed from pandas in a future version. Use pandas.concat instead.\n",
      "  df_all_data = df_all_data.append(df_temp, ignore_index=True)\n"
     ]
    }
   ],
   "source": [
    "import pandas as pd\n",
    "import os\n",
    "import numpy as np\n",
    "import seaborn as sns\n",
    "import matplotlib.pyplot as plt\n",
    "\n",
    "## Read all data into one single dataframe\n",
    "df_all_data = pd.read_csv('./dataset/storm_event_details_2010.csv')\n",
    "\n",
    "for i in range(2011,2021):\n",
    "    df_temp = pd.read_csv(f'./dataset/storm_event_details_{i}.csv')\n",
    "    df_all_data = df_all_data.append(df_temp, ignore_index=True)\n"
   ]
  },
  {
   "cell_type": "code",
   "execution_count": 2,
   "metadata": {},
   "outputs": [
    {
     "name": "stdout",
     "output_type": "stream",
     "text": [
      "<class 'pandas.core.frame.DataFrame'>\n",
      "Int64Index: 14988 entries, 75 to 688592\n",
      "Data columns (total 17 columns):\n",
      " #   Column             Non-Null Count  Dtype  \n",
      "---  ------             --------------  -----  \n",
      " 0   BEGIN_DAY          14988 non-null  int64  \n",
      " 1   END_DAY            14988 non-null  int64  \n",
      " 2   STATE              14988 non-null  object \n",
      " 3   YEAR               14988 non-null  int64  \n",
      " 4   MONTH_NAME         14988 non-null  object \n",
      " 5   CZ_FIPS            14988 non-null  int64  \n",
      " 6   CZ_NAME            14988 non-null  object \n",
      " 7   BEGIN_DATE_TIME    14988 non-null  object \n",
      " 8   INJURIES_DIRECT    14988 non-null  int64  \n",
      " 9   INJURIES_INDIRECT  14988 non-null  int64  \n",
      " 10  DEATHS_DIRECT      14988 non-null  int64  \n",
      " 11  DEATHS_INDIRECT    14988 non-null  int64  \n",
      " 12  DAMAGE_PROPERTY    12945 non-null  object \n",
      " 13  DAMAGE_CROPS       12463 non-null  object \n",
      " 14  TOR_F_SCALE        14988 non-null  object \n",
      " 15  TOR_LENGTH         14988 non-null  float64\n",
      " 16  TOR_WIDTH          14988 non-null  float64\n",
      "dtypes: float64(2), int64(8), object(7)\n",
      "memory usage: 2.1+ MB\n"
     ]
    },
    {
     "name": "stderr",
     "output_type": "stream",
     "text": [
      "C:\\Users\\doris\\AppData\\Local\\Temp/ipykernel_21876/4156103636.py:39: FutureWarning: In a future version of pandas all arguments of DataFrame.drop except for the argument 'labels' will be keyword-only.\n",
      "  df_hur = df_hur.assign(HARM_TOTAL=df_hur[cols].sum(1)).drop(cols,1)\n"
     ]
    }
   ],
   "source": [
    "## Remove unused columns and format continuous columns\n",
    "\n",
    "df_hur = df_all_data[df_all_data['EVENT_TYPE']=='Tornado']\n",
    "df_hur = df_hur.drop(columns=['TOR_OTHER_WFO', 'END_YEARMONTH', 'EVENT_TYPE', 'END_DATE_TIME', 'BEGIN_YEARMONTH', \n",
    "                                            'EPISODE_ID', 'EVENT_ID',\n",
    "                                            'TOR_OTHER_CZ_STATE','TOR_OTHER_CZ_FIPS','TOR_OTHER_CZ_NAME','DATA_SOURCE','EPISODE_NARRATIVE',\n",
    "                                            'EVENT_NARRATIVE','WFO','SOURCE','CZ_TIMEZONE','BEGIN_AZIMUTH','END_AZIMUTH','BEGIN_LAT',\n",
    "                                            'END_LAT','BEGIN_LON','END_LON','STATE_FIPS','BEGIN_RANGE','END_RANGE',\n",
    "                                            'BEGIN_TIME','END_TIME','BEGIN_LOCATION','END_LOCATION','FLOOD_CAUSE','MAGNITUDE_TYPE',\n",
    "                                            'MAGNITUDE', 'CZ_TYPE','CATEGORY'])\n",
    "\n",
    "dmg = pd.DataFrame(df_hur['DAMAGE_PROPERTY'])\n",
    "for index, row in dmg.iterrows():\n",
    "    if type(row['DAMAGE_PROPERTY']) != type(0.0):\n",
    "        val = row['DAMAGE_PROPERTY']\n",
    "        if val[-1:] == 'B':\n",
    "            row['DAMAGE_PROPERTY'] = float(val[:-1])*1000000000\n",
    "        elif val[-1:] == 'M':\n",
    "            row['DAMAGE_PROPERTY'] = float(val[:-1])*1000000\n",
    "        elif val[-1:] == 'K':\n",
    "            row['DAMAGE_PROPERTY'] = float(val[:-1])*1000\n",
    "\n",
    "dmgC = pd.DataFrame(df_hur['DAMAGE_CROPS'])\n",
    "for index, row in dmgC.iterrows():\n",
    "    if type(row['DAMAGE_CROPS']) != type(0.0):\n",
    "        val = row['DAMAGE_CROPS']\n",
    "        if val[-1:] == 'B':\n",
    "            row['DAMAGE_CROPS'] = float(val[:-1])*1000000000\n",
    "        elif val[-1:] == 'M':\n",
    "            row['DAMAGE_CROPS'] = float(val[:-1])*1000000\n",
    "        elif val[-1:] == 'K':\n",
    "            row['DAMAGE_CROPS'] = float(val[:-1])*1000\n",
    "\n",
    "df_hur['DAMAGE_PROPERTY'] = dmg\n",
    "df_hur['DAMAGE_CROPS'] = dmgC\n",
    "\n",
    "df_dqr = df_hur.copy()\n",
    "cols = ['INJURIES_INDIRECT', 'INJURIES_DIRECT', 'DEATHS_INDIRECT', 'DEATHS_DIRECT']\n",
    "df_hur = df_hur.assign(HARM_TOTAL=df_hur[cols].sum(1)).drop(cols,1)\n",
    "df_hur['TOR_AREA'] = df_hur['TOR_LENGTH']*df_hur['TOR_WIDTH']\n",
    "df_hur = df_hur.drop(columns=['TOR_LENGTH', 'TOR_WIDTH'])\n",
    "\n",
    "df_hur = df_hur.dropna()\n",
    "\n",
    "df_dqr.info()"
   ]
  },
  {
   "cell_type": "code",
   "execution_count": 3,
   "metadata": {},
   "outputs": [
    {
     "name": "stdout",
     "output_type": "stream",
     "text": [
      "<class 'pandas.core.frame.DataFrame'>\n",
      "Int64Index: 12091 entries, 100619 to 688560\n",
      "Data columns (total 13 columns):\n",
      " #   Column           Non-Null Count  Dtype  \n",
      "---  ------           --------------  -----  \n",
      " 0   BEGIN_DAY        12091 non-null  int64  \n",
      " 1   END_DAY          12091 non-null  int64  \n",
      " 2   STATE            12091 non-null  object \n",
      " 3   YEAR             12091 non-null  int64  \n",
      " 4   MONTH_NAME       12091 non-null  object \n",
      " 5   CZ_FIPS          12091 non-null  int64  \n",
      " 6   CZ_NAME          12091 non-null  object \n",
      " 7   BEGIN_DATE_TIME  12091 non-null  object \n",
      " 8   DAMAGE_PROPERTY  12091 non-null  object \n",
      " 9   DAMAGE_CROPS     12091 non-null  object \n",
      " 10  TOR_F_SCALE      12091 non-null  object \n",
      " 11  HARM_TOTAL       12091 non-null  int64  \n",
      " 12  TOR_AREA         12091 non-null  float64\n",
      "dtypes: float64(1), int64(5), object(7)\n",
      "memory usage: 1.3+ MB\n"
     ]
    }
   ],
   "source": [
    "## Sort by priority variable and find data split percentages\n",
    "\n",
    "df_hur = df_hur.sort_values('DAMAGE_PROPERTY', ascending=False)\n",
    "df_hur.info()\n",
    "df_hur = df_hur.loc[df_hur['TOR_F_SCALE']!='EFU']"
   ]
  },
  {
   "cell_type": "code",
   "execution_count": 4,
   "metadata": {},
   "outputs": [],
   "source": [
    "# ## DQR for categorical variables\n",
    "\n",
    "# cat_cols = ['STATE', 'YEAR', 'MONTH_NAME', 'TOR_F_SCALE', 'BEGIN_DAY', 'END_DAY', 'CZ_NAME', 'CZ_FIPS']\n",
    "# cat_df = df_dqr[cat_cols]\n",
    "# cat_df\n",
    "\n",
    "# dqr_cat = pd.DataFrame(columns=['Feature', 'Description', 'Count', '% Missing', 'Cardinality','Mode',\n",
    "# 'Mode Frequency', 'Mode %', '2nd Mode', '2nd Mode Frequency', '2nd Mode %'])\n",
    "\n",
    "# descs = ['State where tornado touched down', 'Year of occurence', 'Month of occurence', 'Fujita Scale for intensity of tornado', \n",
    "# 'Day of the month tornado touched down', 'Day of the month tornado disappated','Name of county of occurence','']\n",
    "\n",
    "# dqr_cat['Feature'] = cat_cols\n",
    "\n",
    "# for index, row in dqr_cat.iterrows():\n",
    "#     row['Description'] = descs[index]\n",
    "#     row['Count'] = df_dqr[row['Feature']].count()\n",
    "#     row['Cardinality'] = len(df_dqr[row['Feature']].unique())\n",
    "#     row['Mode'] = df_dqr[row['Feature']].mode()[0]\n",
    "#     if row['Feature'] == 'TOR_F_SCALE':\n",
    "#         row['% Missing'] = round((len(df_dqr[df_dqr[row['Feature']]=='EFU'])/row['Count'])*100, 2)    \n",
    "#     row['% Missing'] = round((len(df_dqr[df_dqr[row['Feature']]==None])/row['Count'])*100, 2)\n",
    "#     row['Mode Frequency'] = len(df_dqr[df_dqr[row['Feature']]==row['Mode']])\n",
    "#     row['Mode %'] = round(row['Mode Frequency']/row['Count']*100, 2)\n",
    "#     mode_df = df_dqr[df_dqr[row['Feature']]!=row['Mode']]\n",
    "#     row['2nd Mode'] = mode_df[row['Feature']].mode()[0]\n",
    "#     row['2nd Mode Frequency'] = len(mode_df[mode_df[row['Feature']]==row['2nd Mode']])\n",
    "#     row['2nd Mode %'] = round(row['2nd Mode Frequency']/row['Count']*100, 2)\n",
    "\n",
    "# dqr_cat"
   ]
  },
  {
   "cell_type": "code",
   "execution_count": 5,
   "metadata": {},
   "outputs": [],
   "source": [
    "# dqr_cont = pd.DataFrame(columns=['Feature', 'Description','Count','% Missing', 'Cardinality','Min','Q1','Median','Q3','Max','Mean','STD'])\n",
    "\n",
    "# cont_cols = ['DAMAGE_PROPERTY', 'DAMAGE_CROPS', 'TOR_WIDTH', 'TOR_LENGTH', 'INJURIES_INDIRECT', 'INJURIES_DIRECT', 'DEATHS_INDIRECT', 'DEATHS_DIRECT']\n",
    "# dqr_cont['Feature'] = cont_cols\n",
    "# total_count = np.size(df_dqr)\n",
    "# descs = ['Property damage caused in dollars', 'Crops damaged in dollars', 'Width of the tornado', 'Length of tornado', \n",
    "# 'Injuried caused inderectly from hurricane (traffic, crime, etc.)', 'Injuries directly caused by tornado (debris, wind, etc.)', \n",
    "# 'Deaths caused indirectly by tornado', 'Deaths caused directly by tornado']\n",
    "\n",
    "# for index, row in dqr_cont.iterrows():\n",
    "#     row['Description'] = descs[index]\n",
    "#     row['Count'] = df_dqr[row['Feature']].count()\n",
    "#     if row['Feature'] == 'DAMAGE_PROPERTY':\n",
    "#         row['% Missing'] = round(row['Count']/total_count * 100, 2)\n",
    "#     else:\n",
    "#         row['% Missing'] = round((len(df_dqr[df_dqr[row['Feature']]==None])/row['Count'])*100, 2)\n",
    "#     row['Cardinality'] = len(df_dqr[row['Feature']].unique())\n",
    "#     row['Min'] = df_dqr[row['Feature']].min()\n",
    "#     row['Max'] = df_dqr[row['Feature']].max()\n",
    "#     row['Q1'] = df_dqr[row['Feature']].quantile(0.25)\n",
    "#     row['Q3'] = df_dqr[row['Feature']].quantile(0.75)\n",
    "#     row['Median'] = df_dqr[row['Feature']].median()\n",
    "#     row['Mean'] = df_dqr[row['Feature']].sum()/row['Count']\n",
    "#     row['STD'] = df_dqr[row['Feature']].std()\n",
    "\n",
    "# dqr_cont"
   ]
  },
  {
   "cell_type": "code",
   "execution_count": 6,
   "metadata": {},
   "outputs": [],
   "source": [
    "\n",
    "df_hur['DAMAGE_PROPERTY'] = df_hur['DAMAGE_CROPS'] + df_hur['DAMAGE_PROPERTY']\n",
    "df_hur = df_hur.drop(columns=['DAMAGE_CROPS'])"
   ]
  },
  {
   "cell_type": "code",
   "execution_count": 7,
   "metadata": {},
   "outputs": [
    {
     "name": "stderr",
     "output_type": "stream",
     "text": [
      "c:\\Users\\doris\\AppData\\Local\\Programs\\Python\\Python39\\lib\\site-packages\\pandas\\core\\arraylike.py:402: RuntimeWarning: divide by zero encountered in log\n",
      "  result = getattr(ufunc, method)(*inputs, **kwargs)\n"
     ]
    }
   ],
   "source": [
    "norm_log = df_hur['DAMAGE_PROPERTY'].astype('int64')\n",
    "norm_log = np.log(norm_log)"
   ]
  },
  {
   "cell_type": "code",
   "execution_count": 8,
   "metadata": {},
   "outputs": [
    {
     "data": {
      "image/png": "[encoded data removed]",
      "text/plain": [
       "<Figure size 432x288 with 1 Axes>"
      ]
     },
     "metadata": {
      "needs_background": "light"
     },
     "output_type": "display_data"
    }
   ],
   "source": [
    "df_hur['DAMAGE_PROPERTY'] = norm_log\n",
    "df_hur['DAMAGE_PROPERTY'] = df_hur['DAMAGE_PROPERTY'].replace(df_hur['DAMAGE_PROPERTY'].min(), 0)\n",
    "sns.histplot(df_hur['DAMAGE_PROPERTY'], bins=20)\n",
    "labels = [1,2,3,4,5,6,7,8,9,10]\n",
    "df_hur['DAMAGE_PROPERTY'] = pd.cut(df_hur['DAMAGE_PROPERTY'], bins=10, labels=labels)"
   ]
  },
  {
   "cell_type": "code",
   "execution_count": 9,
   "metadata": {},
   "outputs": [
    {
     "name": "stderr",
     "output_type": "stream",
     "text": [
      "c:\\Users\\doris\\AppData\\Local\\Programs\\Python\\Python39\\lib\\site-packages\\pandas\\core\\arraylike.py:402: RuntimeWarning: divide by zero encountered in log\n",
      "  result = getattr(ufunc, method)(*inputs, **kwargs)\n"
     ]
    }
   ],
   "source": [
    "norm_area = df_hur['TOR_AREA'].astype('int64')\n",
    "norm_area = np.log(norm_area)\n",
    "df_hur['TOR_AREA'] = norm_area"
   ]
  },
  {
   "cell_type": "code",
   "execution_count": 10,
   "metadata": {},
   "outputs": [
    {
     "data": {
      "image/png": "[encoded data removed]",
      "text/plain": [
       "<Figure size 432x288 with 1 Axes>"
      ]
     },
     "metadata": {
      "needs_background": "light"
     },
     "output_type": "display_data"
    }
   ],
   "source": [
    "df_hur['TOR_AREA'] = df_hur['TOR_AREA'].replace(df_hur['TOR_AREA'].min(), 0)\n",
    "sns.histplot(df_hur['TOR_AREA'], bins=20)\n",
    "labels = [1,2,3,4,5,6,7,8,9,10]\n",
    "df_hur['TOR_AREA'] = pd.cut(df_hur['TOR_AREA'], bins=10,labels=labels)"
   ]
  },
  {
   "cell_type": "code",
   "execution_count": 11,
   "metadata": {},
   "outputs": [
    {
     "data": {
      "text/html": [
       "<div>\n",
       "<style scoped>\n",
       "    .dataframe tbody tr th:only-of-type {\n",
       "        vertical-align: middle;\n",
       "    }\n",
       "\n",
       "    .dataframe tbody tr th {\n",
       "        vertical-align: top;\n",
       "    }\n",
       "\n",
       "    .dataframe thead th {\n",
       "        text-align: right;\n",
       "    }\n",
       "</style>\n",
       "<table border=\"1\" class=\"dataframe\">\n",
       "  <thead>\n",
       "    <tr style=\"text-align: right;\">\n",
       "      <th></th>\n",
       "      <th>BEGIN_DAY</th>\n",
       "      <th>END_DAY</th>\n",
       "      <th>STATE</th>\n",
       "      <th>YEAR</th>\n",
       "      <th>MONTH_NAME</th>\n",
       "      <th>CZ_FIPS</th>\n",
       "      <th>CZ_NAME</th>\n",
       "      <th>BEGIN_DATE_TIME</th>\n",
       "      <th>DAMAGE_PROPERTY</th>\n",
       "      <th>TOR_F_SCALE</th>\n",
       "      <th>HARM_TOTAL</th>\n",
       "      <th>TOR_AREA</th>\n",
       "    </tr>\n",
       "  </thead>\n",
       "  <tbody>\n",
       "    <tr>\n",
       "      <th>100619</th>\n",
       "      <td>22</td>\n",
       "      <td>22</td>\n",
       "      <td>MISSOURI</td>\n",
       "      <td>2011</td>\n",
       "      <td>May</td>\n",
       "      <td>97</td>\n",
       "      <td>JASPER</td>\n",
       "      <td>22-MAY-11 16:40:00</td>\n",
       "      <td>10</td>\n",
       "      <td>EF5</td>\n",
       "      <td>1311</td>\n",
       "      <td>9</td>\n",
       "    </tr>\n",
       "    <tr>\n",
       "      <th>265662</th>\n",
       "      <td>20</td>\n",
       "      <td>20</td>\n",
       "      <td>OKLAHOMA</td>\n",
       "      <td>2013</td>\n",
       "      <td>May</td>\n",
       "      <td>27</td>\n",
       "      <td>CLEVELAND</td>\n",
       "      <td>20-MAY-13 14:04:00</td>\n",
       "      <td>10</td>\n",
       "      <td>EF5</td>\n",
       "      <td>231</td>\n",
       "      <td>9</td>\n",
       "    </tr>\n",
       "    <tr>\n",
       "      <th>626639</th>\n",
       "      <td>20</td>\n",
       "      <td>20</td>\n",
       "      <td>TEXAS</td>\n",
       "      <td>2019</td>\n",
       "      <td>October</td>\n",
       "      <td>113</td>\n",
       "      <td>DALLAS</td>\n",
       "      <td>20-OCT-19 19:58:00</td>\n",
       "      <td>10</td>\n",
       "      <td>EF3</td>\n",
       "      <td>0</td>\n",
       "      <td>9</td>\n",
       "    </tr>\n",
       "    <tr>\n",
       "      <th>134758</th>\n",
       "      <td>27</td>\n",
       "      <td>27</td>\n",
       "      <td>ALABAMA</td>\n",
       "      <td>2011</td>\n",
       "      <td>April</td>\n",
       "      <td>125</td>\n",
       "      <td>TUSCALOOSA</td>\n",
       "      <td>27-APR-11 15:48:00</td>\n",
       "      <td>10</td>\n",
       "      <td>EF4</td>\n",
       "      <td>852</td>\n",
       "      <td>10</td>\n",
       "    </tr>\n",
       "    <tr>\n",
       "      <th>632636</th>\n",
       "      <td>3</td>\n",
       "      <td>3</td>\n",
       "      <td>TENNESSEE</td>\n",
       "      <td>2020</td>\n",
       "      <td>March</td>\n",
       "      <td>37</td>\n",
       "      <td>DAVIDSON</td>\n",
       "      <td>03-MAR-20 00:32:00</td>\n",
       "      <td>10</td>\n",
       "      <td>EF3</td>\n",
       "      <td>172</td>\n",
       "      <td>9</td>\n",
       "    </tr>\n",
       "    <tr>\n",
       "      <th>...</th>\n",
       "      <td>...</td>\n",
       "      <td>...</td>\n",
       "      <td>...</td>\n",
       "      <td>...</td>\n",
       "      <td>...</td>\n",
       "      <td>...</td>\n",
       "      <td>...</td>\n",
       "      <td>...</td>\n",
       "      <td>...</td>\n",
       "      <td>...</td>\n",
       "      <td>...</td>\n",
       "      <td>...</td>\n",
       "    </tr>\n",
       "    <tr>\n",
       "      <th>355819</th>\n",
       "      <td>26</td>\n",
       "      <td>26</td>\n",
       "      <td>TEXAS</td>\n",
       "      <td>2015</td>\n",
       "      <td>April</td>\n",
       "      <td>251</td>\n",
       "      <td>JOHNSON</td>\n",
       "      <td>26-APR-15 21:45:00</td>\n",
       "      <td>1</td>\n",
       "      <td>EF0</td>\n",
       "      <td>0</td>\n",
       "      <td>3</td>\n",
       "    </tr>\n",
       "    <tr>\n",
       "      <th>355777</th>\n",
       "      <td>10</td>\n",
       "      <td>10</td>\n",
       "      <td>TEXAS</td>\n",
       "      <td>2015</td>\n",
       "      <td>May</td>\n",
       "      <td>67</td>\n",
       "      <td>CASS</td>\n",
       "      <td>10-MAY-15 22:30:00</td>\n",
       "      <td>1</td>\n",
       "      <td>EF0</td>\n",
       "      <td>0</td>\n",
       "      <td>6</td>\n",
       "    </tr>\n",
       "    <tr>\n",
       "      <th>355739</th>\n",
       "      <td>8</td>\n",
       "      <td>8</td>\n",
       "      <td>TEXAS</td>\n",
       "      <td>2015</td>\n",
       "      <td>May</td>\n",
       "      <td>447</td>\n",
       "      <td>THROCKMORTON</td>\n",
       "      <td>08-MAY-15 17:40:00</td>\n",
       "      <td>1</td>\n",
       "      <td>EF0</td>\n",
       "      <td>0</td>\n",
       "      <td>2</td>\n",
       "    </tr>\n",
       "    <tr>\n",
       "      <th>355714</th>\n",
       "      <td>15</td>\n",
       "      <td>15</td>\n",
       "      <td>COLORADO</td>\n",
       "      <td>2015</td>\n",
       "      <td>May</td>\n",
       "      <td>1</td>\n",
       "      <td>ADAMS</td>\n",
       "      <td>15-MAY-15 13:03:00</td>\n",
       "      <td>1</td>\n",
       "      <td>EF0</td>\n",
       "      <td>0</td>\n",
       "      <td>2</td>\n",
       "    </tr>\n",
       "    <tr>\n",
       "      <th>688560</th>\n",
       "      <td>9</td>\n",
       "      <td>9</td>\n",
       "      <td>MISSOURI</td>\n",
       "      <td>2020</td>\n",
       "      <td>June</td>\n",
       "      <td>87</td>\n",
       "      <td>HOLT</td>\n",
       "      <td>09-JUN-20 19:03:00</td>\n",
       "      <td>1</td>\n",
       "      <td>EF0</td>\n",
       "      <td>0</td>\n",
       "      <td>1</td>\n",
       "    </tr>\n",
       "  </tbody>\n",
       "</table>\n",
       "<p>11723 rows × 12 columns</p>\n",
       "</div>"
      ],
      "text/plain": [
       "        BEGIN_DAY  END_DAY      STATE  YEAR MONTH_NAME  CZ_FIPS       CZ_NAME  \\\n",
       "100619         22       22   MISSOURI  2011        May       97        JASPER   \n",
       "265662         20       20   OKLAHOMA  2013        May       27     CLEVELAND   \n",
       "626639         20       20      TEXAS  2019    October      113        DALLAS   \n",
       "134758         27       27    ALABAMA  2011      April      125    TUSCALOOSA   \n",
       "632636          3        3  TENNESSEE  2020      March       37      DAVIDSON   \n",
       "...           ...      ...        ...   ...        ...      ...           ...   \n",
       "355819         26       26      TEXAS  2015      April      251       JOHNSON   \n",
       "355777         10       10      TEXAS  2015        May       67          CASS   \n",
       "355739          8        8      TEXAS  2015        May      447  THROCKMORTON   \n",
       "355714         15       15   COLORADO  2015        May        1         ADAMS   \n",
       "688560          9        9   MISSOURI  2020       June       87          HOLT   \n",
       "\n",
       "           BEGIN_DATE_TIME DAMAGE_PROPERTY TOR_F_SCALE  HARM_TOTAL TOR_AREA  \n",
       "100619  22-MAY-11 16:40:00              10         EF5        1311        9  \n",
       "265662  20-MAY-13 14:04:00              10         EF5         231        9  \n",
       "626639  20-OCT-19 19:58:00              10         EF3           0        9  \n",
       "134758  27-APR-11 15:48:00              10         EF4         852       10  \n",
       "632636  03-MAR-20 00:32:00              10         EF3         172        9  \n",
       "...                    ...             ...         ...         ...      ...  \n",
       "355819  26-APR-15 21:45:00               1         EF0           0        3  \n",
       "355777  10-MAY-15 22:30:00               1         EF0           0        6  \n",
       "355739  08-MAY-15 17:40:00               1         EF0           0        2  \n",
       "355714  15-MAY-15 13:03:00               1         EF0           0        2  \n",
       "688560  09-JUN-20 19:03:00               1         EF0           0        1  \n",
       "\n",
       "[11723 rows x 12 columns]"
      ]
     },
     "execution_count": 11,
     "metadata": {},
     "output_type": "execute_result"
    }
   ],
   "source": [
    "df_hur"
   ]
  },
  {
   "cell_type": "code",
   "execution_count": 12,
   "metadata": {},
   "outputs": [
    {
     "data": {
      "text/html": [
       "<div>\n",
       "<style scoped>\n",
       "    .dataframe tbody tr th:only-of-type {\n",
       "        vertical-align: middle;\n",
       "    }\n",
       "\n",
       "    .dataframe tbody tr th {\n",
       "        vertical-align: top;\n",
       "    }\n",
       "\n",
       "    .dataframe thead th {\n",
       "        text-align: right;\n",
       "    }\n",
       "</style>\n",
       "<table border=\"1\" class=\"dataframe\">\n",
       "  <thead>\n",
       "    <tr style=\"text-align: right;\">\n",
       "      <th></th>\n",
       "      <th>BEGIN_DAY</th>\n",
       "      <th>END_DAY</th>\n",
       "      <th>STATE</th>\n",
       "      <th>YEAR</th>\n",
       "      <th>MONTH_NAME</th>\n",
       "      <th>CZ_FIPS</th>\n",
       "      <th>CZ_NAME</th>\n",
       "      <th>BEGIN_DATE_TIME</th>\n",
       "      <th>DAMAGE_PROPERTY</th>\n",
       "      <th>TOR_F_SCALE</th>\n",
       "      <th>HARM_TOTAL</th>\n",
       "      <th>TOR_AREA</th>\n",
       "    </tr>\n",
       "  </thead>\n",
       "  <tbody>\n",
       "    <tr>\n",
       "      <th>488392</th>\n",
       "      <td>24</td>\n",
       "      <td>24</td>\n",
       "      <td>NORTH CAROLINA</td>\n",
       "      <td>2017</td>\n",
       "      <td>May</td>\n",
       "      <td>59</td>\n",
       "      <td>DAVIE</td>\n",
       "      <td>24-MAY-17 15:14:00</td>\n",
       "      <td>6</td>\n",
       "      <td>EF0</td>\n",
       "      <td>1</td>\n",
       "      <td>5</td>\n",
       "    </tr>\n",
       "    <tr>\n",
       "      <th>417909</th>\n",
       "      <td>18</td>\n",
       "      <td>18</td>\n",
       "      <td>MINNESOTA</td>\n",
       "      <td>2016</td>\n",
       "      <td>August</td>\n",
       "      <td>47</td>\n",
       "      <td>FREEBORN</td>\n",
       "      <td>18-AUG-16 15:31:00</td>\n",
       "      <td>4</td>\n",
       "      <td>EF0</td>\n",
       "      <td>0</td>\n",
       "      <td>2</td>\n",
       "    </tr>\n",
       "    <tr>\n",
       "      <th>642090</th>\n",
       "      <td>22</td>\n",
       "      <td>22</td>\n",
       "      <td>TEXAS</td>\n",
       "      <td>2020</td>\n",
       "      <td>April</td>\n",
       "      <td>387</td>\n",
       "      <td>RED RIVER</td>\n",
       "      <td>22-APR-20 18:04:00</td>\n",
       "      <td>1</td>\n",
       "      <td>EF0</td>\n",
       "      <td>0</td>\n",
       "      <td>2</td>\n",
       "    </tr>\n",
       "    <tr>\n",
       "      <th>450731</th>\n",
       "      <td>19</td>\n",
       "      <td>19</td>\n",
       "      <td>KANSAS</td>\n",
       "      <td>2017</td>\n",
       "      <td>May</td>\n",
       "      <td>111</td>\n",
       "      <td>LYON</td>\n",
       "      <td>19-MAY-17 19:38:00</td>\n",
       "      <td>1</td>\n",
       "      <td>EF0</td>\n",
       "      <td>0</td>\n",
       "      <td>1</td>\n",
       "    </tr>\n",
       "    <tr>\n",
       "      <th>541163</th>\n",
       "      <td>2</td>\n",
       "      <td>2</td>\n",
       "      <td>GEORGIA</td>\n",
       "      <td>2018</td>\n",
       "      <td>December</td>\n",
       "      <td>3</td>\n",
       "      <td>ATKINSON</td>\n",
       "      <td>02-DEC-18 14:30:00</td>\n",
       "      <td>4</td>\n",
       "      <td>EF0</td>\n",
       "      <td>0</td>\n",
       "      <td>2</td>\n",
       "    </tr>\n",
       "    <tr>\n",
       "      <th>...</th>\n",
       "      <td>...</td>\n",
       "      <td>...</td>\n",
       "      <td>...</td>\n",
       "      <td>...</td>\n",
       "      <td>...</td>\n",
       "      <td>...</td>\n",
       "      <td>...</td>\n",
       "      <td>...</td>\n",
       "      <td>...</td>\n",
       "      <td>...</td>\n",
       "      <td>...</td>\n",
       "      <td>...</td>\n",
       "    </tr>\n",
       "    <tr>\n",
       "      <th>662554</th>\n",
       "      <td>8</td>\n",
       "      <td>8</td>\n",
       "      <td>MINNESOTA</td>\n",
       "      <td>2020</td>\n",
       "      <td>July</td>\n",
       "      <td>51</td>\n",
       "      <td>GRANT</td>\n",
       "      <td>08-JUL-20 16:08:00</td>\n",
       "      <td>6</td>\n",
       "      <td>EF4</td>\n",
       "      <td>0</td>\n",
       "      <td>7</td>\n",
       "    </tr>\n",
       "    <tr>\n",
       "      <th>125058</th>\n",
       "      <td>9</td>\n",
       "      <td>9</td>\n",
       "      <td>IOWA</td>\n",
       "      <td>2011</td>\n",
       "      <td>April</td>\n",
       "      <td>151</td>\n",
       "      <td>POCAHONTAS</td>\n",
       "      <td>09-APR-11 20:54:00</td>\n",
       "      <td>7</td>\n",
       "      <td>EF4</td>\n",
       "      <td>0</td>\n",
       "      <td>7</td>\n",
       "    </tr>\n",
       "    <tr>\n",
       "      <th>731</th>\n",
       "      <td>29</td>\n",
       "      <td>29</td>\n",
       "      <td>LOUISIANA</td>\n",
       "      <td>2010</td>\n",
       "      <td>November</td>\n",
       "      <td>127</td>\n",
       "      <td>WINN</td>\n",
       "      <td>29-NOV-10 15:12:00</td>\n",
       "      <td>7</td>\n",
       "      <td>EF4</td>\n",
       "      <td>0</td>\n",
       "      <td>8</td>\n",
       "    </tr>\n",
       "    <tr>\n",
       "      <th>218154</th>\n",
       "      <td>17</td>\n",
       "      <td>17</td>\n",
       "      <td>ILLINOIS</td>\n",
       "      <td>2013</td>\n",
       "      <td>November</td>\n",
       "      <td>179</td>\n",
       "      <td>TAZEWELL</td>\n",
       "      <td>17-NOV-13 10:59:00</td>\n",
       "      <td>10</td>\n",
       "      <td>EF4</td>\n",
       "      <td>124</td>\n",
       "      <td>9</td>\n",
       "    </tr>\n",
       "    <tr>\n",
       "      <th>126672</th>\n",
       "      <td>27</td>\n",
       "      <td>27</td>\n",
       "      <td>MISSISSIPPI</td>\n",
       "      <td>2011</td>\n",
       "      <td>April</td>\n",
       "      <td>95</td>\n",
       "      <td>MONROE</td>\n",
       "      <td>27-APR-11 14:42:00</td>\n",
       "      <td>7</td>\n",
       "      <td>EF5</td>\n",
       "      <td>53</td>\n",
       "      <td>8</td>\n",
       "    </tr>\n",
       "  </tbody>\n",
       "</table>\n",
       "<p>1172 rows × 12 columns</p>\n",
       "</div>"
      ],
      "text/plain": [
       "        BEGIN_DAY  END_DAY           STATE  YEAR MONTH_NAME  CZ_FIPS  \\\n",
       "488392         24       24  NORTH CAROLINA  2017        May       59   \n",
       "417909         18       18       MINNESOTA  2016     August       47   \n",
       "642090         22       22           TEXAS  2020      April      387   \n",
       "450731         19       19          KANSAS  2017        May      111   \n",
       "541163          2        2         GEORGIA  2018   December        3   \n",
       "...           ...      ...             ...   ...        ...      ...   \n",
       "662554          8        8       MINNESOTA  2020       July       51   \n",
       "125058          9        9            IOWA  2011      April      151   \n",
       "731            29       29       LOUISIANA  2010   November      127   \n",
       "218154         17       17        ILLINOIS  2013   November      179   \n",
       "126672         27       27     MISSISSIPPI  2011      April       95   \n",
       "\n",
       "           CZ_NAME     BEGIN_DATE_TIME DAMAGE_PROPERTY TOR_F_SCALE  \\\n",
       "488392       DAVIE  24-MAY-17 15:14:00               6         EF0   \n",
       "417909    FREEBORN  18-AUG-16 15:31:00               4         EF0   \n",
       "642090   RED RIVER  22-APR-20 18:04:00               1         EF0   \n",
       "450731        LYON  19-MAY-17 19:38:00               1         EF0   \n",
       "541163    ATKINSON  02-DEC-18 14:30:00               4         EF0   \n",
       "...            ...                 ...             ...         ...   \n",
       "662554       GRANT  08-JUL-20 16:08:00               6         EF4   \n",
       "125058  POCAHONTAS  09-APR-11 20:54:00               7         EF4   \n",
       "731           WINN  29-NOV-10 15:12:00               7         EF4   \n",
       "218154    TAZEWELL  17-NOV-13 10:59:00              10         EF4   \n",
       "126672      MONROE  27-APR-11 14:42:00               7         EF5   \n",
       "\n",
       "        HARM_TOTAL TOR_AREA  \n",
       "488392           1        5  \n",
       "417909           0        2  \n",
       "642090           0        2  \n",
       "450731           0        1  \n",
       "541163           0        2  \n",
       "...            ...      ...  \n",
       "662554           0        7  \n",
       "125058           0        7  \n",
       "731              0        8  \n",
       "218154         124        9  \n",
       "126672          53        8  \n",
       "\n",
       "[1172 rows x 12 columns]"
      ]
     },
     "execution_count": 12,
     "metadata": {},
     "output_type": "execute_result"
    }
   ],
   "source": [
    "## Split data into strata and sample proportinally (stratified sampling)\n",
    "\n",
    "sampled_df = df_hur.groupby('TOR_F_SCALE', group_keys=False).apply(lambda x: x.sample(frac=0.1))\n",
    "sampled_df"
   ]
  },
  {
   "cell_type": "markdown",
   "metadata": {},
   "source": [
    "KNN MODELS"
   ]
  },
  {
   "cell_type": "code",
   "execution_count": 13,
   "metadata": {},
   "outputs": [],
   "source": [
    "#Import packages\n",
    "from sklearn.model_selection import train_test_split\n",
    "from sklearn.neighbors import KNeighborsClassifier\n",
    "from sklearn.metrics import accuracy_score"
   ]
  },
  {
   "cell_type": "code",
   "execution_count": 25,
   "metadata": {},
   "outputs": [
    {
     "name": "stdout",
     "output_type": "stream",
     "text": [
      " Max Accuracy Score Is  16 NN: 0.4313335228888257\n"
     ]
    },
    {
     "data": {
      "image/png": "[encoded data removed]",
      "text/plain": [
       "<Figure size 432x288 with 1 Axes>"
      ]
     },
     "metadata": {
      "needs_background": "light"
     },
     "output_type": "display_data"
    }
   ],
   "source": [
    "X_train, X_test, Y_train, Y_test = train_test_split(df_hur[['HARM_TOTAL', 'TOR_AREA', 'CZ_FIPS']], df_hur['DAMAGE_PROPERTY'], test_size=0.30, random_state=64)\n",
    "resultsKNN = pd.DataFrame(columns=['KNN', 'Score for Training', 'Score for Testing'])\n",
    "max_accuracy = 0\n",
    "k_val = 1\n",
    "\n",
    "for knnCount in range (1,40):\n",
    "    nn_clf = KNeighborsClassifier(n_neighbors=knnCount)\n",
    "    nn_clf.fit(X_train, Y_train)\n",
    "    y_train_pred = nn_clf.predict(X_train)\n",
    "    y_pred = nn_clf.predict(X_test)\n",
    "    \n",
    "    scoreTrain = accuracy_score(Y_train, y_train_pred)\n",
    "    scoreTest = accuracy_score(Y_test, y_pred)\n",
    "\n",
    "    if(scoreTest > max_accuracy):\n",
    "        max_accuracy = scoreTest\n",
    "        k_val = knnCount\n",
    "\n",
    "    resultsKNN.loc[knnCount] = [knnCount, scoreTrain, scoreTest]\n",
    "    \n",
    "resultsKNN.pop('KNN')\n",
    "ax = resultsKNN.plot()\n",
    "ax.set(xlabel='k', ylabel='Accuracy')\n",
    "print(\" Max Accuracy Score Is \", k_val, \"NN:\", max_accuracy)"
   ]
  },
  {
   "cell_type": "markdown",
   "metadata": {},
   "source": [
    "SAMPLED DATASET - KNN MODEL"
   ]
  },
  {
   "cell_type": "code",
   "execution_count": 30,
   "metadata": {},
   "outputs": [
    {
     "name": "stdout",
     "output_type": "stream",
     "text": [
      " Max Accuracy Score Is  12 NN: 0.3693181818181818\n"
     ]
    },
    {
     "data": {
      "image/png": "[encoded data removed]",
      "text/plain": [
       "<Figure size 432x288 with 1 Axes>"
      ]
     },
     "metadata": {
      "needs_background": "light"
     },
     "output_type": "display_data"
    }
   ],
   "source": [
    "X_train, X_test, Y_train, Y_test = train_test_split(sampled_df[['HARM_TOTAL', 'TOR_AREA', 'CZ_FIPS']], sampled_df['DAMAGE_PROPERTY'], test_size=0.30, random_state=64)\n",
    "resultsKNN = pd.DataFrame(columns=['KNN', 'Score for Training', 'Score for Testing'])\n",
    "max_accuracy = 0\n",
    "k_val = 1\n",
    "\n",
    "for knnCount in range (1,40):\n",
    "    nn_clf = KNeighborsClassifier(n_neighbors=knnCount)\n",
    "    nn_clf.fit(X_train, Y_train)\n",
    "    y_train_pred = nn_clf.predict(X_train)\n",
    "    y_pred = nn_clf.predict(X_test)\n",
    "    \n",
    "    scoreTrain = accuracy_score(Y_train, y_train_pred)\n",
    "    scoreTest = accuracy_score(Y_test, y_pred)\n",
    "\n",
    "    if(scoreTest > max_accuracy):\n",
    "        max_accuracy = scoreTest\n",
    "        k_val = knnCount\n",
    "\n",
    "    resultsKNN.loc[knnCount] = [knnCount, scoreTrain, scoreTest]\n",
    "    \n",
    "resultsKNN.pop('KNN')\n",
    "ax = resultsKNN.plot()\n",
    "ax.set(xlabel='k', ylabel='Accuracy')\n",
    "print(\" Max Accuracy Score Is \", k_val, \"NN:\", max_accuracy)"
   ]
  },
  {
   "cell_type": "markdown",
   "metadata": {},
   "source": [
    "WEIGHTTED KNN - MANHATTAN"
   ]
  },
  {
   "cell_type": "code",
   "execution_count": 27,
   "metadata": {},
   "outputs": [
    {
     "name": "stdout",
     "output_type": "stream",
     "text": [
      "The maximum accuracy is:  0.39850746268656717 , Max K:  1\n"
     ]
    },
    {
     "data": {
      "image/png": "[encoded data removed]",
      "text/plain": [
       "<Figure size 432x288 with 1 Axes>"
      ]
     },
     "metadata": {
      "needs_background": "light"
     },
     "output_type": "display_data"
    }
   ],
   "source": [
    "X_train, X_test, Y_train, Y_test = train_test_split(df_hur[['HARM_TOTAL', 'TOR_AREA', 'CZ_FIPS']], df_hur['DAMAGE_PROPERTY'], test_size=0.40, random_state=64)\n",
    "max_num = 0\n",
    "k_val = 1\n",
    "resultsKNN = pd.DataFrame(columns=['KNN', 'Score for Training', 'Score for Testing'])\n",
    "\n",
    "for knnCount in range (1,40):\n",
    "    knn = KNeighborsClassifier(n_neighbors=knnCount, p=1, metric='manhattan', weights='distance') #manhattan dist here\n",
    "    knn.fit(X_train, Y_train)\n",
    "    y_train_pred = knn.predict(X_train)\n",
    "    y_pred = knn.predict(X_test)\n",
    "    \n",
    "    scoreTrain = accuracy_score(Y_train, y_train_pred)\n",
    "    scoreTest = accuracy_score(Y_test, y_pred)\n",
    "    max_num = scoreTest\n",
    "    if(scoreTest > max_num):\n",
    "        max_num = scoreTest\n",
    "        k_val = knnCount\n",
    "\n",
    "    resultsKNN.loc[knnCount] = [knnCount, scoreTrain, scoreTest]\n",
    "    \n",
    "resultsKNN.pop('KNN')\n",
    "ax = resultsKNN.plot()\n",
    "ax.set(xlabel='k', ylabel='Accuracy')\n",
    "print('The maximum accuracy is: ', max_num, ', Max K: ', k_val)"
   ]
  }
 ],
 "metadata": {
  "kernelspec": {
   "display_name": "Python 3.9.6 64-bit",
   "language": "python",
   "name": "python3"
  },
  "language_info": {
   "codemirror_mode": {
    "name": "ipython",
    "version": 3
   },
   "file_extension": ".py",
   "mimetype": "text/x-python",
   "name": "python",
   "nbconvert_exporter": "python",
   "pygments_lexer": "ipython3",
   "version": "3.9.6"
  },
  "orig_nbformat": 4,
  "vscode": {
   "interpreter": {
    "hash": "5e3958ac43a9925cccec3cc0b90475e9a1eb582b0a026a9f6f10e7e3d12170fe"
   }
  }
 },
 "nbformat": 4,
 "nbformat_minor": 2
}
