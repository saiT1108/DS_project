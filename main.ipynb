{
 "cells": [
  {
   "cell_type": "markdown",
   "metadata": {},
   "source": [
    "# Severity of storms "
   ]
  },
  {
   "cell_type": "markdown",
   "metadata": {},
   "source": [
    "### 1.1 Business problem"
   ]
  },
  {
   "cell_type": "markdown",
   "metadata": {},
   "source": [
    "\n",
    "Our project will focus on analyzing and predicting the severity of tornadoes across various regions in America in terms of property damage. To analyze this, we will take the last 10 years of tornado data to represent an approximate measure of it. To calculate this, we will establish a threshold for measuring the severity using the amount of property damage caused by tornadoes. We will predict the property damage of tornadoes and use a scale of low, medium, and high to represent the severity.  \n",
    "In addition, we will also compare attitudes across each of the 4 seasons - summer, spring, winter, fall, and see if there are any trends present across the 10 year span that shows when tornadoes are most common and damaging. The trends will help us be more accurate in predicting the property damage caused by the tornadoes  per region during different seasons/times of the year.\n"
   ]
  },
  {
   "cell_type": "markdown",
   "metadata": {},
   "source": [
    "### 1.2 Datasets"
   ]
  },
  {
   "cell_type": "markdown",
   "metadata": {},
   "source": [
    "\n",
    "Our dataset details instances of severe weather across a 15 year period. We will be looking at Tornados across this time period. We are given the locations that the Tornados are in, the category of Tornadoes, fatalities, property damage, and the length of the storm. From this we created a target feature called severity which assigns tornados a number from 1 to 10 based on how severe they are.\n"
   ]
  },
  {
   "cell_type": "markdown",
   "metadata": {},
   "source": [
    "### 1.3 Proposed analytics solution"
   ]
  },
  {
   "cell_type": "markdown",
   "metadata": {},
   "source": [
    " How we get to the target variable -- severity index\n",
    "The severity index will be calculated by taking into account the property damage, the lives lost in the event, \n"
   ]
  },
  {
   "cell_type": "code",
   "execution_count": 75,
   "metadata": {},
   "outputs": [
    {
     "name": "stderr",
     "output_type": "stream",
     "text": [
      "/var/folders/b1/t1n97j495rq26g0zhqy_3ty80000gn/T/ipykernel_84546/3914789818.py:13: FutureWarning: The frame.append method is deprecated and will be removed from pandas in a future version. Use pandas.concat instead.\n",
      "  df_all_data = df_all_data.append(df_temp, ignore_index=True)\n",
      "/var/folders/b1/t1n97j495rq26g0zhqy_3ty80000gn/T/ipykernel_84546/3914789818.py:13: FutureWarning: The frame.append method is deprecated and will be removed from pandas in a future version. Use pandas.concat instead.\n",
      "  df_all_data = df_all_data.append(df_temp, ignore_index=True)\n",
      "/var/folders/b1/t1n97j495rq26g0zhqy_3ty80000gn/T/ipykernel_84546/3914789818.py:13: FutureWarning: The frame.append method is deprecated and will be removed from pandas in a future version. Use pandas.concat instead.\n",
      "  df_all_data = df_all_data.append(df_temp, ignore_index=True)\n",
      "/var/folders/b1/t1n97j495rq26g0zhqy_3ty80000gn/T/ipykernel_84546/3914789818.py:13: FutureWarning: The frame.append method is deprecated and will be removed from pandas in a future version. Use pandas.concat instead.\n",
      "  df_all_data = df_all_data.append(df_temp, ignore_index=True)\n",
      "/var/folders/b1/t1n97j495rq26g0zhqy_3ty80000gn/T/ipykernel_84546/3914789818.py:13: FutureWarning: The frame.append method is deprecated and will be removed from pandas in a future version. Use pandas.concat instead.\n",
      "  df_all_data = df_all_data.append(df_temp, ignore_index=True)\n",
      "/var/folders/b1/t1n97j495rq26g0zhqy_3ty80000gn/T/ipykernel_84546/3914789818.py:13: FutureWarning: The frame.append method is deprecated and will be removed from pandas in a future version. Use pandas.concat instead.\n",
      "  df_all_data = df_all_data.append(df_temp, ignore_index=True)\n",
      "/var/folders/b1/t1n97j495rq26g0zhqy_3ty80000gn/T/ipykernel_84546/3914789818.py:13: FutureWarning: The frame.append method is deprecated and will be removed from pandas in a future version. Use pandas.concat instead.\n",
      "  df_all_data = df_all_data.append(df_temp, ignore_index=True)\n",
      "/var/folders/b1/t1n97j495rq26g0zhqy_3ty80000gn/T/ipykernel_84546/3914789818.py:13: FutureWarning: The frame.append method is deprecated and will be removed from pandas in a future version. Use pandas.concat instead.\n",
      "  df_all_data = df_all_data.append(df_temp, ignore_index=True)\n",
      "/var/folders/b1/t1n97j495rq26g0zhqy_3ty80000gn/T/ipykernel_84546/3914789818.py:13: FutureWarning: The frame.append method is deprecated and will be removed from pandas in a future version. Use pandas.concat instead.\n",
      "  df_all_data = df_all_data.append(df_temp, ignore_index=True)\n",
      "/var/folders/b1/t1n97j495rq26g0zhqy_3ty80000gn/T/ipykernel_84546/3914789818.py:13: FutureWarning: The frame.append method is deprecated and will be removed from pandas in a future version. Use pandas.concat instead.\n",
      "  df_all_data = df_all_data.append(df_temp, ignore_index=True)\n"
     ]
    }
   ],
   "source": [
    "import pandas as pd\n",
    "import os\n",
    "import numpy as np\n",
    "import seaborn as sns\n",
    "import matplotlib.pyplot as plt\n",
    "\n",
    "## Read all data into one single dataframe\n",
    "df_all_data = pd.read_csv('./dataset/storm_event_details_2010.csv')\n",
    "\n",
    "\n",
    "for i in range(2011,2021):\n",
    "    df_temp = pd.read_csv(f'./dataset/storm_event_details_{i}.csv')\n",
    "    df_all_data = df_all_data.append(df_temp, ignore_index=True)\n",
    "\n"
   ]
  },
  {
   "cell_type": "code",
   "execution_count": 76,
   "metadata": {},
   "outputs": [
    {
     "name": "stderr",
     "output_type": "stream",
     "text": [
      "/var/folders/b1/t1n97j495rq26g0zhqy_3ty80000gn/T/ipykernel_84546/2115226861.py:11: FutureWarning: In a future version of pandas all arguments of DataFrame.drop except for the argument 'labels' will be keyword-only.\n",
      "  df_hur = df_hur.assign(HARM_TOTAL=df_hur[cols].sum(1)).drop(cols,1)\n"
     ]
    }
   ],
   "source": [
    "## Remove unused columns and format continuous columns\n",
    "\n",
    "df_hur = df_all_data[df_all_data['EVENT_TYPE']=='Tornado']\n",
    "df_hur = df_hur.drop(columns=['TOR_OTHER_WFO', 'END_YEARMONTH', 'EVENT_TYPE', 'END_DATE_TIME',\n",
    "                                           'TOR_OTHER_CZ_STATE','TOR_OTHER_CZ_FIPS','TOR_OTHER_CZ_NAME','DATA_SOURCE','EPISODE_NARRATIVE',\n",
    "                                            'EVENT_NARRATIVE','WFO','SOURCE','CZ_TIMEZONE','BEGIN_AZIMUTH','END_AZIMUTH','BEGIN_LAT',\n",
    "                                            'END_LAT','BEGIN_LON','END_LON','STATE_FIPS','BEGIN_RANGE','END_RANGE','DAMAGE_CROPS',\n",
    "                                            'BEGIN_TIME','END_TIME','BEGIN_LOCATION','END_LOCATION','FLOOD_CAUSE','MAGNITUDE_TYPE',\n",
    "                                            'MAGNITUDE','CZ_FIPS','CZ_TYPE','CZ_NAME','CATEGORY'])\n",
    "cols = ['INJURIES_INDIRECT', 'INJURIES_DIRECT', 'DEATHS_INDIRECT', 'DEATHS_DIRECT']\n",
    "df_hur = df_hur.assign(HARM_TOTAL=df_hur[cols].sum(1)).drop(cols,1)\n",
    "df_hur['TOR_AREA'] = df_hur['TOR_LENGTH']*df_hur['TOR_WIDTH']\n",
    "df_hur = df_hur.drop(columns=['TOR_LENGTH', 'TOR_WIDTH'])\n",
    "df_hur = df_hur.dropna()\n"
   ]
  },
  {
   "cell_type": "code",
   "execution_count": 77,
   "metadata": {},
   "outputs": [
    {
     "name": "stdout",
     "output_type": "stream",
     "text": [
      "       DAMAGE_PROPERTY\n",
      "75               5.00K\n",
      "304              1.50M\n",
      "617             10.00K\n",
      "731            750.00K\n",
      "732             10.00K\n",
      "...                ...\n",
      "688471           0.00K\n",
      "688472         250.00K\n",
      "688495          60.00K\n",
      "688497           0.00K\n",
      "688560           0.00K\n",
      "\n",
      "[12945 rows x 1 columns]\n"
     ]
    }
   ],
   "source": [
    "## Format DAMAGE_PROPERTY column to be float instead of object\n",
    "\n",
    "dmg = pd.DataFrame(df_hur['DAMAGE_PROPERTY'])\n",
    "\n",
    "print(dmg)\n",
    "for index, row in dmg.iterrows():\n",
    "    val = row['DAMAGE_PROPERTY']\n",
    "    if val[-1:] == 'B':\n",
    "        row['DAMAGE_PROPERTY'] = float(val[:-1])*1000000\n",
    "        # print(float(row['DAMAGE_PROPERTY'][:-1])*1000000)\n",
    "    elif val[-1:] == 'M':\n",
    "        row['DAMAGE_PROPERTY'] = float(val[:-1])*1000\n",
    "        # print(float(row['DAMAGE_PROPERTY'][:-1])*1000)\n",
    "    elif val[-1:] == 'K':\n",
    "        row['DAMAGE_PROPERTY'] = float(val[:-1])*1\n",
    "        # print(float(row['DAMAGE_PROPERTY'][:-1]))\n",
    "\n",
    "df_hur['DAMAGE_PROPERTY'] = dmg"
   ]
  },
  {
   "cell_type": "code",
   "execution_count": 78,
   "metadata": {},
   "outputs": [
    {
     "name": "stdout",
     "output_type": "stream",
     "text": [
      "<class 'pandas.core.frame.DataFrame'>\n",
      "Int64Index: 12945 entries, 100619 to 688560\n",
      "Data columns (total 13 columns):\n",
      " #   Column           Non-Null Count  Dtype  \n",
      "---  ------           --------------  -----  \n",
      " 0   BEGIN_YEARMONTH  12945 non-null  int64  \n",
      " 1   BEGIN_DAY        12945 non-null  int64  \n",
      " 2   END_DAY          12945 non-null  int64  \n",
      " 3   EPISODE_ID       12945 non-null  int64  \n",
      " 4   EVENT_ID         12945 non-null  int64  \n",
      " 5   STATE            12945 non-null  object \n",
      " 6   YEAR             12945 non-null  int64  \n",
      " 7   MONTH_NAME       12945 non-null  object \n",
      " 8   BEGIN_DATE_TIME  12945 non-null  object \n",
      " 9   DAMAGE_PROPERTY  12945 non-null  object \n",
      " 10  TOR_F_SCALE      12945 non-null  object \n",
      " 11  HARM_TOTAL       12945 non-null  int64  \n",
      " 12  TOR_AREA         12945 non-null  float64\n",
      "dtypes: float64(1), int64(7), object(5)\n",
      "memory usage: 1.4+ MB\n",
      "EF0    51.117296\n",
      "EF1    35.737575\n",
      "EF2     9.852883\n",
      "EF3     2.576541\n",
      "EF4     0.628231\n",
      "EF5     0.087475\n",
      "Name: TOR_F_SCALE, dtype: float64\n"
     ]
    }
   ],
   "source": [
    "## Sort by priority variable and find data split percentages\n",
    "\n",
    "df_hur = df_hur.sort_values('DAMAGE_PROPERTY', ascending=False)\n",
    "df_hur.info()\n",
    "df_hur = df_hur.loc[df_hur['TOR_F_SCALE']!='EFU']\n",
    "print(df_hur['TOR_F_SCALE'].value_counts()/len(df_hur) * 100)"
   ]
  },
  {
   "cell_type": "code",
   "execution_count": 79,
   "metadata": {},
   "outputs": [
    {
     "data": {
      "text/plain": [
       "April        21.677932\n",
       "May          20.548708\n",
       "June         12.413519\n",
       "July          7.093439\n",
       "March         6.727634\n",
       "August        6.067594\n",
       "October       5.137177\n",
       "November      4.580517\n",
       "January       4.413519\n",
       "February      4.159046\n",
       "September     3.618290\n",
       "December      3.562624\n",
       "Name: MONTH_NAME, dtype: float64"
      ]
     },
     "execution_count": 79,
     "metadata": {},
     "output_type": "execute_result"
    }
   ],
   "source": [
    "df_hur['MONTH_NAME'].value_counts()/len(df_hur) * 100"
   ]
  },
  {
   "cell_type": "code",
   "execution_count": 80,
   "metadata": {},
   "outputs": [
    {
     "data": {
      "text/html": [
       "<div>\n",
       "<style scoped>\n",
       "    .dataframe tbody tr th:only-of-type {\n",
       "        vertical-align: middle;\n",
       "    }\n",
       "\n",
       "    .dataframe tbody tr th {\n",
       "        vertical-align: top;\n",
       "    }\n",
       "\n",
       "    .dataframe thead th {\n",
       "        text-align: right;\n",
       "    }\n",
       "</style>\n",
       "<table border=\"1\" class=\"dataframe\">\n",
       "  <thead>\n",
       "    <tr style=\"text-align: right;\">\n",
       "      <th></th>\n",
       "      <th>BEGIN_YEARMONTH</th>\n",
       "      <th>BEGIN_DAY</th>\n",
       "      <th>END_DAY</th>\n",
       "      <th>EPISODE_ID</th>\n",
       "      <th>EVENT_ID</th>\n",
       "      <th>STATE</th>\n",
       "      <th>YEAR</th>\n",
       "      <th>MONTH_NAME</th>\n",
       "      <th>BEGIN_DATE_TIME</th>\n",
       "      <th>DAMAGE_PROPERTY</th>\n",
       "      <th>TOR_F_SCALE</th>\n",
       "      <th>HARM_TOTAL</th>\n",
       "      <th>TOR_AREA</th>\n",
       "    </tr>\n",
       "  </thead>\n",
       "  <tbody>\n",
       "    <tr>\n",
       "      <th>90921</th>\n",
       "      <td>201106</td>\n",
       "      <td>12</td>\n",
       "      <td>12</td>\n",
       "      <td>50715</td>\n",
       "      <td>299242</td>\n",
       "      <td>PENNSYLVANIA</td>\n",
       "      <td>2011</td>\n",
       "      <td>June</td>\n",
       "      <td>12-JUN-11 14:30:00</td>\n",
       "      <td>10.0</td>\n",
       "      <td>EF0</td>\n",
       "      <td>0</td>\n",
       "      <td>57.5</td>\n",
       "    </tr>\n",
       "    <tr>\n",
       "      <th>575183</th>\n",
       "      <td>201903</td>\n",
       "      <td>14</td>\n",
       "      <td>14</td>\n",
       "      <td>135813</td>\n",
       "      <td>815040</td>\n",
       "      <td>ALABAMA</td>\n",
       "      <td>2019</td>\n",
       "      <td>March</td>\n",
       "      <td>14-MAR-19 17:19:00</td>\n",
       "      <td>0.0</td>\n",
       "      <td>EF0</td>\n",
       "      <td>0</td>\n",
       "      <td>448.0</td>\n",
       "    </tr>\n",
       "    <tr>\n",
       "      <th>289156</th>\n",
       "      <td>201406</td>\n",
       "      <td>19</td>\n",
       "      <td>19</td>\n",
       "      <td>86927</td>\n",
       "      <td>524803</td>\n",
       "      <td>IOWA</td>\n",
       "      <td>2014</td>\n",
       "      <td>June</td>\n",
       "      <td>19-JUN-14 12:30:00</td>\n",
       "      <td>0.0</td>\n",
       "      <td>EF0</td>\n",
       "      <td>0</td>\n",
       "      <td>7.5</td>\n",
       "    </tr>\n",
       "    <tr>\n",
       "      <th>273682</th>\n",
       "      <td>201412</td>\n",
       "      <td>23</td>\n",
       "      <td>23</td>\n",
       "      <td>91483</td>\n",
       "      <td>552505</td>\n",
       "      <td>MISSISSIPPI</td>\n",
       "      <td>2014</td>\n",
       "      <td>December</td>\n",
       "      <td>23-DEC-14 14:46:00</td>\n",
       "      <td>23.0</td>\n",
       "      <td>EF0</td>\n",
       "      <td>0</td>\n",
       "      <td>12.0</td>\n",
       "    </tr>\n",
       "    <tr>\n",
       "      <th>230315</th>\n",
       "      <td>201305</td>\n",
       "      <td>30</td>\n",
       "      <td>30</td>\n",
       "      <td>73709</td>\n",
       "      <td>455308</td>\n",
       "      <td>OKLAHOMA</td>\n",
       "      <td>2013</td>\n",
       "      <td>May</td>\n",
       "      <td>30-MAY-13 17:54:00</td>\n",
       "      <td>0.0</td>\n",
       "      <td>EF0</td>\n",
       "      <td>0</td>\n",
       "      <td>5.0</td>\n",
       "    </tr>\n",
       "    <tr>\n",
       "      <th>...</th>\n",
       "      <td>...</td>\n",
       "      <td>...</td>\n",
       "      <td>...</td>\n",
       "      <td>...</td>\n",
       "      <td>...</td>\n",
       "      <td>...</td>\n",
       "      <td>...</td>\n",
       "      <td>...</td>\n",
       "      <td>...</td>\n",
       "      <td>...</td>\n",
       "      <td>...</td>\n",
       "      <td>...</td>\n",
       "      <td>...</td>\n",
       "    </tr>\n",
       "    <tr>\n",
       "      <th>35891</th>\n",
       "      <td>201004</td>\n",
       "      <td>24</td>\n",
       "      <td>24</td>\n",
       "      <td>38376</td>\n",
       "      <td>224552</td>\n",
       "      <td>MISSISSIPPI</td>\n",
       "      <td>2010</td>\n",
       "      <td>April</td>\n",
       "      <td>24-APR-10 11:33:00</td>\n",
       "      <td>60000.0</td>\n",
       "      <td>EF4</td>\n",
       "      <td>41</td>\n",
       "      <td>55250.0</td>\n",
       "    </tr>\n",
       "    <tr>\n",
       "      <th>36055</th>\n",
       "      <td>201004</td>\n",
       "      <td>24</td>\n",
       "      <td>24</td>\n",
       "      <td>38376</td>\n",
       "      <td>224551</td>\n",
       "      <td>MISSISSIPPI</td>\n",
       "      <td>2010</td>\n",
       "      <td>April</td>\n",
       "      <td>24-APR-10 10:53:00</td>\n",
       "      <td>140000.0</td>\n",
       "      <td>EF4</td>\n",
       "      <td>57</td>\n",
       "      <td>107338.0</td>\n",
       "    </tr>\n",
       "    <tr>\n",
       "      <th>181809</th>\n",
       "      <td>201202</td>\n",
       "      <td>29</td>\n",
       "      <td>29</td>\n",
       "      <td>60247</td>\n",
       "      <td>359697</td>\n",
       "      <td>ILLINOIS</td>\n",
       "      <td>2012</td>\n",
       "      <td>February</td>\n",
       "      <td>29-FEB-12 05:04:00</td>\n",
       "      <td>1000.0</td>\n",
       "      <td>EF4</td>\n",
       "      <td>13</td>\n",
       "      <td>3048.0</td>\n",
       "    </tr>\n",
       "    <tr>\n",
       "      <th>77158</th>\n",
       "      <td>201104</td>\n",
       "      <td>27</td>\n",
       "      <td>27</td>\n",
       "      <td>49915</td>\n",
       "      <td>296789</td>\n",
       "      <td>TENNESSEE</td>\n",
       "      <td>2011</td>\n",
       "      <td>April</td>\n",
       "      <td>27-APR-11 19:27:00</td>\n",
       "      <td>20000.0</td>\n",
       "      <td>EF4</td>\n",
       "      <td>108</td>\n",
       "      <td>3920.0</td>\n",
       "    </tr>\n",
       "    <tr>\n",
       "      <th>137505</th>\n",
       "      <td>201104</td>\n",
       "      <td>27</td>\n",
       "      <td>27</td>\n",
       "      <td>51541</td>\n",
       "      <td>309257</td>\n",
       "      <td>MISSISSIPPI</td>\n",
       "      <td>2011</td>\n",
       "      <td>April</td>\n",
       "      <td>27-APR-11 13:30:00</td>\n",
       "      <td>500.0</td>\n",
       "      <td>EF5</td>\n",
       "      <td>0</td>\n",
       "      <td>11997.0</td>\n",
       "    </tr>\n",
       "  </tbody>\n",
       "</table>\n",
       "<p>1257 rows × 13 columns</p>\n",
       "</div>"
      ],
      "text/plain": [
       "        BEGIN_YEARMONTH  BEGIN_DAY  END_DAY  EPISODE_ID  EVENT_ID  \\\n",
       "90921            201106         12       12       50715    299242   \n",
       "575183           201903         14       14      135813    815040   \n",
       "289156           201406         19       19       86927    524803   \n",
       "273682           201412         23       23       91483    552505   \n",
       "230315           201305         30       30       73709    455308   \n",
       "...                 ...        ...      ...         ...       ...   \n",
       "35891            201004         24       24       38376    224552   \n",
       "36055            201004         24       24       38376    224551   \n",
       "181809           201202         29       29       60247    359697   \n",
       "77158            201104         27       27       49915    296789   \n",
       "137505           201104         27       27       51541    309257   \n",
       "\n",
       "               STATE  YEAR MONTH_NAME     BEGIN_DATE_TIME DAMAGE_PROPERTY  \\\n",
       "90921   PENNSYLVANIA  2011       June  12-JUN-11 14:30:00            10.0   \n",
       "575183       ALABAMA  2019      March  14-MAR-19 17:19:00             0.0   \n",
       "289156          IOWA  2014       June  19-JUN-14 12:30:00             0.0   \n",
       "273682   MISSISSIPPI  2014   December  23-DEC-14 14:46:00            23.0   \n",
       "230315      OKLAHOMA  2013        May  30-MAY-13 17:54:00             0.0   \n",
       "...              ...   ...        ...                 ...             ...   \n",
       "35891    MISSISSIPPI  2010      April  24-APR-10 11:33:00         60000.0   \n",
       "36055    MISSISSIPPI  2010      April  24-APR-10 10:53:00        140000.0   \n",
       "181809      ILLINOIS  2012   February  29-FEB-12 05:04:00          1000.0   \n",
       "77158      TENNESSEE  2011      April  27-APR-11 19:27:00         20000.0   \n",
       "137505   MISSISSIPPI  2011      April  27-APR-11 13:30:00           500.0   \n",
       "\n",
       "       TOR_F_SCALE  HARM_TOTAL  TOR_AREA  \n",
       "90921          EF0           0      57.5  \n",
       "575183         EF0           0     448.0  \n",
       "289156         EF0           0       7.5  \n",
       "273682         EF0           0      12.0  \n",
       "230315         EF0           0       5.0  \n",
       "...            ...         ...       ...  \n",
       "35891          EF4          41   55250.0  \n",
       "36055          EF4          57  107338.0  \n",
       "181809         EF4          13    3048.0  \n",
       "77158          EF4         108    3920.0  \n",
       "137505         EF5           0   11997.0  \n",
       "\n",
       "[1257 rows x 13 columns]"
      ]
     },
     "execution_count": 80,
     "metadata": {},
     "output_type": "execute_result"
    }
   ],
   "source": [
    "## Split data into strata and sample proportinally (stratified sampling)\n",
    "\n",
    "sampled_df = df_hur.groupby('TOR_F_SCALE', group_keys=False).apply(lambda x: x.sample(frac=0.1))\n",
    "sampled_df\n",
    "# sampled_df['MONTH_NAME'].value_counts()/len(df_hur) * 100"
   ]
  },
  {
   "cell_type": "code",
   "execution_count": 81,
   "metadata": {},
   "outputs": [
    {
     "name": "stdout",
     "output_type": "stream",
     "text": [
      "['BEGIN_YEARMONTH', 'BEGIN_DAY', 'END_DAY', 'EPISODE_ID', 'EVENT_ID', 'STATE', 'YEAR', 'MONTH_NAME', 'BEGIN_DATE_TIME', 'DAMAGE_PROPERTY', 'TOR_F_SCALE', 'HARM_TOTAL', 'TOR_AREA']\n"
     ]
    }
   ],
   "source": [
    "cont_features = []\n",
    "for (columnName, columnData) in sampled_df.iteritems():\n",
    "    if type(columnData) == int or float:\n",
    "        cont_features.append(columnName)\n",
    "        \n",
    "print(cont_features)"
   ]
  },
  {
   "cell_type": "markdown",
   "metadata": {},
   "source": [
    "from sklearn import preprocessing\n",
    "scaled_df = preprocessing.MinMaxScaler().fit_transform(df2)\n",
    "sdf=pd.DataFrame(scaled_df, columns=df2.columns)\n",
    "#sdf['price_range']=cl_df['prie_range']\n",
    "sdf.head()"
   ]
  },
  {
   "cell_type": "code",
   "execution_count": 89,
   "metadata": {},
   "outputs": [
    {
     "data": {
      "image/png": "[encoded data removed]",
      "text/plain": [
       "<Figure size 864x576 with 1 Axes>"
      ]
     },
     "metadata": {},
     "output_type": "display_data"
    }
   ],
   "source": [
    "# visualize damage property scale of tornado with a scattarplot and \n",
    "#tor_f_scale \n",
    "\n",
    "#df_hur.dropna()\n",
    "#df_hur = df_hur.astype({'DAMAGE_PROPERTY':'float'})\n",
    "\n",
    "#df_hur['logarithm_base10'] = np.log10(df_hur['DAMAGE_PROPERTY'])\n",
    "#df_hur['natural_log'] = np.log(df_hur['DAMAGE_PROPERTY'])\n",
    "#plt.scatter(df_hur.DAMAGE_PROPERTY, df_hur.HARM_TOTAL, linewidths = 2, edgecolor =\"green\", s = 1, hue = 'TOR_F_SCALE')\n",
    "\n",
    "\n",
    "sns.set(rc={'figure.figsize':(12, 8)})\n",
    "sns.scatterplot(data=sampled_df, x='DAMAGE_PROPERTY', y='HARM_TOTAL', palette='deep')\n",
    "#robust scaling \n",
    "\n",
    "\n",
    "plt.xlabel('property damage', fontsize=10)\n",
    "plt.ylabel('total harm', fontsize=10)\n",
    "plt.xlim(0.1)\n",
    "plt.show()\n",
    "\n",
    "\n",
    "#correlation = sampled_df.corr()\n",
    "#print(correlation.loc['DAMAGE_PROPERTY', 'HARM_TOTAL'])\n",
    "\n",
    "\n",
    "#visualize tornado area "
   ]
  },
  {
   "cell_type": "code",
   "execution_count": 86,
   "metadata": {},
   "outputs": [
    {
     "data": {
      "text/html": [
       "<div>\n",
       "<style scoped>\n",
       "    .dataframe tbody tr th:only-of-type {\n",
       "        vertical-align: middle;\n",
       "    }\n",
       "\n",
       "    .dataframe tbody tr th {\n",
       "        vertical-align: top;\n",
       "    }\n",
       "\n",
       "    .dataframe thead th {\n",
       "        text-align: right;\n",
       "    }\n",
       "</style>\n",
       "<table border=\"1\" class=\"dataframe\">\n",
       "  <thead>\n",
       "    <tr style=\"text-align: right;\">\n",
       "      <th></th>\n",
       "      <th>HARM_TOTAL</th>\n",
       "      <th>TOR_AREA</th>\n",
       "    </tr>\n",
       "  </thead>\n",
       "  <tbody>\n",
       "    <tr>\n",
       "      <th>90921</th>\n",
       "      <td>0</td>\n",
       "      <td>57.5</td>\n",
       "    </tr>\n",
       "    <tr>\n",
       "      <th>575183</th>\n",
       "      <td>0</td>\n",
       "      <td>448.0</td>\n",
       "    </tr>\n",
       "    <tr>\n",
       "      <th>289156</th>\n",
       "      <td>0</td>\n",
       "      <td>7.5</td>\n",
       "    </tr>\n",
       "    <tr>\n",
       "      <th>273682</th>\n",
       "      <td>0</td>\n",
       "      <td>12.0</td>\n",
       "    </tr>\n",
       "    <tr>\n",
       "      <th>230315</th>\n",
       "      <td>0</td>\n",
       "      <td>5.0</td>\n",
       "    </tr>\n",
       "    <tr>\n",
       "      <th>...</th>\n",
       "      <td>...</td>\n",
       "      <td>...</td>\n",
       "    </tr>\n",
       "    <tr>\n",
       "      <th>35891</th>\n",
       "      <td>41</td>\n",
       "      <td>55250.0</td>\n",
       "    </tr>\n",
       "    <tr>\n",
       "      <th>36055</th>\n",
       "      <td>57</td>\n",
       "      <td>107338.0</td>\n",
       "    </tr>\n",
       "    <tr>\n",
       "      <th>181809</th>\n",
       "      <td>13</td>\n",
       "      <td>3048.0</td>\n",
       "    </tr>\n",
       "    <tr>\n",
       "      <th>77158</th>\n",
       "      <td>108</td>\n",
       "      <td>3920.0</td>\n",
       "    </tr>\n",
       "    <tr>\n",
       "      <th>137505</th>\n",
       "      <td>0</td>\n",
       "      <td>11997.0</td>\n",
       "    </tr>\n",
       "  </tbody>\n",
       "</table>\n",
       "<p>1257 rows × 2 columns</p>\n",
       "</div>"
      ],
      "text/plain": [
       "        HARM_TOTAL  TOR_AREA\n",
       "90921            0      57.5\n",
       "575183           0     448.0\n",
       "289156           0       7.5\n",
       "273682           0      12.0\n",
       "230315           0       5.0\n",
       "...            ...       ...\n",
       "35891           41   55250.0\n",
       "36055           57  107338.0\n",
       "181809          13    3048.0\n",
       "77158          108    3920.0\n",
       "137505           0   11997.0\n",
       "\n",
       "[1257 rows x 2 columns]"
      ]
     },
     "execution_count": 86,
     "metadata": {},
     "output_type": "execute_result"
    }
   ],
   "source": [
    "ndf = sampled_df[['HARM_TOTAL', 'TOR_AREA']].copy()\n",
    "ndf"
   ]
  },
  {
   "cell_type": "code",
   "execution_count": null,
   "metadata": {},
   "outputs": [],
   "source": [
    "from sklearn.tree import DecisionTreeClassifier\n",
    "dt_clf = DecisionTreeClassifier(max_depth = 2, criterion='entropy', random_state = 0)"
   ]
  },
  {
   "cell_type": "code",
   "execution_count": null,
   "metadata": {},
   "outputs": [],
   "source": [
    "from sklearn.model_selection import train_test_split\n",
    "X_train, X_test, Y_train, Y_test = train_test_split(ndf, sampled_df['DAMAGE_PROPERTY'],  \n",
    "                                                    test_size=0.33, random_state=0)\n",
    "\n",
    "\n",
    "Y_train=Y_train.astype('int')\n",
    "Y_test=Y_test.astype('int')"
   ]
  },
  {
   "cell_type": "code",
   "execution_count": null,
   "metadata": {},
   "outputs": [],
   "source": [
    "dt_clf.fit(X_train, Y_train)"
   ]
  },
  {
   "cell_type": "code",
   "execution_count": null,
   "metadata": {},
   "outputs": [],
   "source": [
    "y_pred = dt_clf.predict(X_test)\n",
    "y_pred"
   ]
  },
  {
   "cell_type": "code",
   "execution_count": null,
   "metadata": {},
   "outputs": [],
   "source": [
    "from sklearn.metrics import accuracy_score\n",
    "accuracy = accuracy_score(Y_test, y_pred)\n",
    "accuracy"
   ]
  },
  {
   "cell_type": "code",
   "execution_count": null,
   "metadata": {},
   "outputs": [],
   "source": [
    "from sklearn.metrics import confusion_matrix\n",
    "cm = confusion_matrix(Y_test, y_pred)\n",
    "\n",
    "cm_df = pd.DataFrame(cm)\n",
    "cm_df"
   ]
  },
  {
   "cell_type": "code",
   "execution_count": null,
   "metadata": {},
   "outputs": [],
   "source": []
  }
 ],
 "metadata": {
  "kernelspec": {
   "display_name": "Python 3 (ipykernel)",
   "language": "python",
   "name": "python3"
  },
  "language_info": {
   "codemirror_mode": {
    "name": "ipython",
    "version": 3
   },
   "file_extension": ".py",
   "mimetype": "text/x-python",
   "name": "python",
   "nbconvert_exporter": "python",
   "pygments_lexer": "ipython3",
   "version": "3.9.12"
  },
  "vscode": {
   "interpreter": {
    "hash": "aee8b7b246df8f9039afb4144a1f6fd8d2ca17a180786b69acc140d282b71a49"
   }
  }
 },
 "nbformat": 4,
 "nbformat_minor": 2
}
